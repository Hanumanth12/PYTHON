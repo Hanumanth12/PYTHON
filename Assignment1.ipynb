{
  "nbformat": 4,
  "nbformat_minor": 0,
  "metadata": {
    "colab": {
      "name": "Assignment1.ipynb",
      "provenance": [],
      "collapsed_sections": []
    },
    "kernelspec": {
      "name": "python3",
      "display_name": "Python 3"
    }
  },
  "cells": [
    {
      "cell_type": "code",
      "metadata": {
        "id": "0DBhTlFWIKVG",
        "colab_type": "code",
        "outputId": "8abb6ccb-5801-4cb1-f1ce-d34e1bdc2112",
        "colab": {
          "base_uri": "https://localhost:8080/",
          "height": 34
        }
      },
      "source": [
        "print(\"Hello World\")"
      ],
      "execution_count": 0,
      "outputs": [
        {
          "output_type": "stream",
          "text": [
            "Hello World\n"
          ],
          "name": "stdout"
        }
      ]
    },
    {
      "cell_type": "code",
      "metadata": {
        "id": "qf9FeafsRUmo",
        "colab_type": "code",
        "outputId": "3a10b2d2-b271-4ac9-fbe6-01101e3ff3ad",
        "colab": {
          "base_uri": "https://localhost:8080/",
          "height": 54
        }
      },
      "source": [
        "list=[x for x in range(2000,3201) if x%7==0 and x%5!=0]\n",
        "print(list)"
      ],
      "execution_count": 0,
      "outputs": [
        {
          "output_type": "stream",
          "text": [
            "[2002, 2009, 2016, 2023, 2037, 2044, 2051, 2058, 2072, 2079, 2086, 2093, 2107, 2114, 2121, 2128, 2142, 2149, 2156, 2163, 2177, 2184, 2191, 2198, 2212, 2219, 2226, 2233, 2247, 2254, 2261, 2268, 2282, 2289, 2296, 2303, 2317, 2324, 2331, 2338, 2352, 2359, 2366, 2373, 2387, 2394, 2401, 2408, 2422, 2429, 2436, 2443, 2457, 2464, 2471, 2478, 2492, 2499, 2506, 2513, 2527, 2534, 2541, 2548, 2562, 2569, 2576, 2583, 2597, 2604, 2611, 2618, 2632, 2639, 2646, 2653, 2667, 2674, 2681, 2688, 2702, 2709, 2716, 2723, 2737, 2744, 2751, 2758, 2772, 2779, 2786, 2793, 2807, 2814, 2821, 2828, 2842, 2849, 2856, 2863, 2877, 2884, 2891, 2898, 2912, 2919, 2926, 2933, 2947, 2954, 2961, 2968, 2982, 2989, 2996, 3003, 3017, 3024, 3031, 3038, 3052, 3059, 3066, 3073, 3087, 3094, 3101, 3108, 3122, 3129, 3136, 3143, 3157, 3164, 3171, 3178, 3192, 3199]\n"
          ],
          "name": "stdout"
        }
      ]
    },
    {
      "cell_type": "code",
      "metadata": {
        "id": "IpwP30s6Y4zO",
        "colab_type": "code",
        "colab": {
          "base_uri": "https://localhost:8080/",
          "height": 69
        },
        "outputId": "3f11872e-5c12-4c68-b8e9-6f35ff0aa9ee"
      },
      "source": [
        "first=input(\"Enter the first name:\")\n",
        "last=input(\"Enter the last name:\")\n",
        "print(last,first)\n"
      ],
      "execution_count": 4,
      "outputs": [
        {
          "output_type": "stream",
          "text": [
            "Enter the first name:Hanumanth\n",
            "Enter the last name:Prathipati\n",
            "Prathipati Hanumanth\n"
          ],
          "name": "stdout"
        }
      ]
    },
    {
      "cell_type": "code",
      "metadata": {
        "id": "fUA7hpjJZ_C8",
        "colab_type": "code",
        "colab": {
          "base_uri": "https://localhost:8080/",
          "height": 34
        },
        "outputId": "2dc87783-771c-4f3c-ed7f-be62eb378db4"
      },
      "source": [
        "import math\n",
        "r=6\n",
        "V=4/3*math.pi*math.pow(r,3)\n",
        "print(\"Volume of sphere:{0:.2f}\".format(V))"
      ],
      "execution_count": 8,
      "outputs": [
        {
          "output_type": "stream",
          "text": [
            "Volume of sphere:904.78\n"
          ],
          "name": "stdout"
        }
      ]
    },
    {
      "cell_type": "code",
      "metadata": {
        "id": "FD4KKVuYfFtv",
        "colab_type": "code",
        "colab": {
          "base_uri": "https://localhost:8080/",
          "height": 52
        },
        "outputId": "3c2d1318-fde7-48a5-edd6-a95f3428a3e1"
      },
      "source": [
        "values=input(\"Enter the sequence of no's from console:\")\n",
        "l=values.split(sep=\",\",)\n",
        "print(l)\n"
      ],
      "execution_count": 23,
      "outputs": [
        {
          "output_type": "stream",
          "text": [
            "Enter the sequence of no's from console:10,20,30,40,50\n",
            "['10', '20', '30', '40', '50']\n"
          ],
          "name": "stdout"
        }
      ]
    },
    {
      "cell_type": "code",
      "metadata": {
        "id": "gpn_k6ImmI7-",
        "colab_type": "code",
        "colab": {
          "base_uri": "https://localhost:8080/",
          "height": 173
        },
        "outputId": "4f94f8f5-8b5e-4145-8132-372ba05e8725"
      },
      "source": [
        "for x in range(1,6):\n",
        "  for y in range(0,x):\n",
        "    print(\"*\",end=\" \")\n",
        "  print()\n",
        "for x in range(4,0,-1):\n",
        "  for y in range(0,x):\n",
        "    print(\"*\",end=\" \")\n",
        "  print()"
      ],
      "execution_count": 19,
      "outputs": [
        {
          "output_type": "stream",
          "text": [
            "* \n",
            "* * \n",
            "* * * \n",
            "* * * * \n",
            "* * * * * \n",
            "* * * * \n",
            "* * * \n",
            "* * \n",
            "* \n"
          ],
          "name": "stdout"
        }
      ]
    },
    {
      "cell_type": "code",
      "metadata": {
        "id": "X8xBBSMsIbkL",
        "colab_type": "code",
        "colab": {
          "base_uri": "https://localhost:8080/",
          "height": 52
        },
        "outputId": "bd4b4a8e-d5a1-4b6f-8798-ae4e2c017a81"
      },
      "source": [
        "word = input(\"Input a word to reverse: \")\n",
        "for char in range(len(word) - 1, -1, -1):\n",
        "  print(word[char], end=\"\")"
      ],
      "execution_count": 20,
      "outputs": [
        {
          "output_type": "stream",
          "text": [
            "Input a word to reverse: Hanumanth\n",
            "htnamunaH"
          ],
          "name": "stdout"
        }
      ]
    },
    {
      "cell_type": "code",
      "metadata": {
        "id": "mJXm95agLFwv",
        "colab_type": "code",
        "colab": {
          "base_uri": "https://localhost:8080/",
          "height": 86
        },
        "outputId": "aacb03a6-2c65-4d60-8c9f-de72ec516bb5"
      },
      "source": [
        "print(\"WE, THE PEOPLE OF INDIA,\\n \\t having solemnly resolved to constitute India into a SOVEREIGN,!\\n\\t\\t SOCIALIST, SECULAR, DEMOCRATIC REPUBLIC\\n\\t\\t  and to secure to all its citizens\")\n"
      ],
      "execution_count": 35,
      "outputs": [
        {
          "output_type": "stream",
          "text": [
            "WE, THE PEOPLE OF INDIA,\n",
            " \t having solemnly resolved to constitute India into a SOVEREIGN,!\n",
            "\t\t SOCIALIST, SECULAR, DEMOCRATIC REPUBLIC\n",
            "\t\t  and to secure to all its citizens\n"
          ],
          "name": "stdout"
        }
      ]
    }
  ]
}